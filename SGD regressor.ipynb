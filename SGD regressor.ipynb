{
  "cells": [
    {
      "cell_type": "markdown",
      "metadata": {
        "id": "view-in-github",
        "colab_type": "text"
      },
      "source": [
        "<a href=\"https://colab.research.google.com/github/Rakeshavs/Multiple-regression-for-house-prediction/blob/main/SGD%20regressor.ipynb\" target=\"_parent\"><img src=\"https://colab.research.google.com/assets/colab-badge.svg\" alt=\"Open In Colab\"/></a>"
      ]
    },
    {
      "cell_type": "markdown",
      "source": [
        "importing libraries\n"
      ],
      "metadata": {
        "id": "K--K1RIVpNoL"
      }
    },
    {
      "cell_type": "code",
      "source": [
        "# Ignore warnings to keep output clean\n",
        "import warnings\n",
        "warnings.filterwarnings(\"ignore\")\n",
        "\n",
        "# Import required libraries\n",
        "import pandas as pd\n",
        "import numpy as np\n",
        "import matplotlib.pyplot as plt\n",
        "import seaborn as sns\n",
        "\n",
        "from sklearn.datasets import fetch_california_housing\n",
        "from sklearn.model_selection import train_test_split\n",
        "from sklearn.preprocessing import StandardScaler\n",
        "from sklearn.linear_model import LinearRegression\n",
        "from sklearn.metrics import mean_squared_error, mean_absolute_error, r2_score\n",
        "import joblib  # To save the model\n"
      ],
      "metadata": {
        "id": "wmnZQclqpBOs"
      },
      "execution_count": null,
      "outputs": []
    },
    {
      "cell_type": "markdown",
      "source": [
        "loading the data set of california housing prices\n"
      ],
      "metadata": {
        "id": "1QEtLLZ5pYby"
      }
    },
    {
      "cell_type": "code",
      "source": [
        "# Load California housing dataset\n",
        "california_data = fetch_california_housing()\n",
        "\n",
        "# Convert features into a Pandas DataFrame\n",
        "X = pd.DataFrame(california_data.data, columns=california_data.feature_names)\n",
        "\n",
        "# Target variable (Y)\n",
        "Y = california_data.target\n",
        "\n",
        "# Display first 5 rows\n",
        "print(X.head())\n",
        "print(Y[:5])  # Print first 5 target values\n"
      ],
      "metadata": {
        "id": "9eKkLE7ApKrJ",
        "outputId": "16f55ec5-f258-4fec-d356-75512e3d81cb",
        "colab": {
          "base_uri": "https://localhost:8080/"
        }
      },
      "execution_count": null,
      "outputs": [
        {
          "output_type": "stream",
          "name": "stdout",
          "text": [
            "   MedInc  HouseAge  AveRooms  AveBedrms  Population  AveOccup  Latitude  \\\n",
            "0  8.3252      41.0  6.984127   1.023810       322.0  2.555556     37.88   \n",
            "1  8.3014      21.0  6.238137   0.971880      2401.0  2.109842     37.86   \n",
            "2  7.2574      52.0  8.288136   1.073446       496.0  2.802260     37.85   \n",
            "3  5.6431      52.0  5.817352   1.073059       558.0  2.547945     37.85   \n",
            "4  3.8462      52.0  6.281853   1.081081       565.0  2.181467     37.85   \n",
            "\n",
            "   Longitude  \n",
            "0    -122.23  \n",
            "1    -122.22  \n",
            "2    -122.24  \n",
            "3    -122.25  \n",
            "4    -122.25  \n",
            "[4.526 3.585 3.521 3.413 3.422]\n"
          ]
        }
      ]
    },
    {
      "cell_type": "code",
      "source": [
        "# Check dataset shape\n",
        "print(f\"Shape of Features (X): {X.shape}\")  # (20640, 8)\n",
        "print(f\"Shape of Target (Y): {Y.shape}\")  # (20640,)\n",
        "\n",
        "# Check for missing values\n",
        "print(\"Missing values in dataset:\")\n",
        "print(X.isnull().sum())  # Should be all 0 if no missing values\n",
        "\n",
        "# Summary statistics\n",
        "print(X.describe())  # Get statistical summary of dataset\n",
        "\n",
        "# Visualizing target variable distribution\n",
        "plt.figure(figsize=(7, 5))\n",
        "sns.histplot(Y, bins=30, kde=True)\n",
        "plt.title(\"Target Variable Distribution (House Prices)\")\n",
        "plt.xlabel(\"Median House Value\")\n",
        "plt.ylabel(\"Frequency\")\n",
        "plt.show()\n",
        "\n"
      ],
      "metadata": {
        "colab": {
          "base_uri": "https://localhost:8080/",
          "height": 1000
        },
        "id": "9BfvFVmiqBHk",
        "outputId": "08117d74-cef6-4fe5-b504-c5ad3389d600"
      },
      "execution_count": null,
      "outputs": [
        {
          "output_type": "stream",
          "name": "stdout",
          "text": [
            "Shape of Features (X): (20640, 8)\n",
            "Shape of Target (Y): (20640,)\n",
            "Missing values in dataset:\n",
            "MedInc        0\n",
            "HouseAge      0\n",
            "AveRooms      0\n",
            "AveBedrms     0\n",
            "Population    0\n",
            "AveOccup      0\n",
            "Latitude      0\n",
            "Longitude     0\n",
            "dtype: int64\n",
            "             MedInc      HouseAge      AveRooms     AveBedrms    Population  \\\n",
            "count  20640.000000  20640.000000  20640.000000  20640.000000  20640.000000   \n",
            "mean       3.870671     28.639486      5.429000      1.096675   1425.476744   \n",
            "std        1.899822     12.585558      2.474173      0.473911   1132.462122   \n",
            "min        0.499900      1.000000      0.846154      0.333333      3.000000   \n",
            "25%        2.563400     18.000000      4.440716      1.006079    787.000000   \n",
            "50%        3.534800     29.000000      5.229129      1.048780   1166.000000   \n",
            "75%        4.743250     37.000000      6.052381      1.099526   1725.000000   \n",
            "max       15.000100     52.000000    141.909091     34.066667  35682.000000   \n",
            "\n",
            "           AveOccup      Latitude     Longitude  \n",
            "count  20640.000000  20640.000000  20640.000000  \n",
            "mean       3.070655     35.631861   -119.569704  \n",
            "std       10.386050      2.135952      2.003532  \n",
            "min        0.692308     32.540000   -124.350000  \n",
            "25%        2.429741     33.930000   -121.800000  \n",
            "50%        2.818116     34.260000   -118.490000  \n",
            "75%        3.282261     37.710000   -118.010000  \n",
            "max     1243.333333     41.950000   -114.310000  \n"
          ]
        },
        {
          "output_type": "display_data",
          "data": {
            "text/plain": [
              "<Figure size 700x500 with 1 Axes>"
            ],
            "image/png": "[encoded data removed]"
          },
          "metadata": {}
        }
      ]
    },
    {
      "cell_type": "code",
      "source": [
        "# Check for duplicates (not expected in this dataset)\n",
        "duplicates = X.duplicated().sum()\n",
        "print(f\"Number of duplicate rows: {duplicates}\")\n",
        "\n",
        "# Standardizing the features (scaling data for better model performance)\n",
        "scaler = StandardScaler()\n",
        "X_scaled = scaler.fit_transform(X)  # Fit & transform X\n",
        "\n",
        "# Convert scaled data back to DataFrame\n",
        "X_scaled = pd.DataFrame(X_scaled, columns=X.columns)\n",
        "\n",
        "print(X_scaled.head())  # Check the scaled data\n"
      ],
      "metadata": {
        "id": "tQcWzr3k75bi",
        "outputId": "24db1a67-c58e-4b26-9a75-ddc8fc9d8370",
        "colab": {
          "base_uri": "https://localhost:8080/"
        }
      },
      "execution_count": null,
      "outputs": [
        {
          "output_type": "stream",
          "name": "stdout",
          "text": [
            "Number of duplicate rows: 0\n",
            "     MedInc  HouseAge  AveRooms  AveBedrms  Population  AveOccup  Latitude  \\\n",
            "0  2.344766  0.982143  0.628559  -0.153758   -0.974429 -0.049597  1.052548   \n",
            "1  2.332238 -0.607019  0.327041  -0.263336    0.861439 -0.092512  1.043185   \n",
            "2  1.782699  1.856182  1.155620  -0.049016   -0.820777 -0.025843  1.038503   \n",
            "3  0.932968  1.856182  0.156966  -0.049833   -0.766028 -0.050329  1.038503   \n",
            "4 -0.012881  1.856182  0.344711  -0.032906   -0.759847 -0.085616  1.038503   \n",
            "\n",
            "   Longitude  \n",
            "0  -1.327835  \n",
            "1  -1.322844  \n",
            "2  -1.332827  \n",
            "3  -1.337818  \n",
            "4  -1.337818  \n"
          ]
        }
      ]
    },
    {
      "cell_type": "code",
      "source": [],
      "metadata": {
        "id": "UVcOqjeuFViE"
      },
      "execution_count": null,
      "outputs": []
    },
    {
      "cell_type": "code",
      "source": [
        "# Splitting dataset into 80% training and 20% testing\n",
        "X_train, X_test, Y_train, Y_test = train_test_split(X_scaled, Y, test_size=0.4, random_state=42)\n",
        "\n",
        "# Print split dataset shapes\n",
        "print(f\"Training set: X_train: {X_train.shape}, Y_train: {Y_train.shape}\")\n",
        "print(f\"Testing set: X_test: {X_test.shape}, Y_test: {Y_test.shape}\")\n"
      ],
      "metadata": {
        "id": "J6gK6ElE9I0_",
        "outputId": "0ad03961-3d89-4a7e-ace7-9eebff60728a",
        "colab": {
          "base_uri": "https://localhost:8080/"
        }
      },
      "execution_count": null,
      "outputs": [
        {
          "output_type": "stream",
          "name": "stdout",
          "text": [
            "Training set: X_train: (2064, 8), Y_train: (2064,)\n",
            "Testing set: X_test: (18576, 8), Y_test: (18576,)\n"
          ]
        }
      ]
    },
    {
      "cell_type": "code",
      "source": [
        "# Initialize the model\n",
        "model = LinearRegression()\n",
        "\n",
        "# Train (fit) the model on training data\n",
        "model.fit(X_train, Y_train)\n",
        "\n",
        "# Make predictions on test data\n",
        "Y_pred = model.predict(X_test)\n",
        "\n",
        "# Print first 5 predictions\n",
        "print(Y_pred[:5])\n"
      ],
      "metadata": {
        "id": "H3zUIcfV9lw_",
        "outputId": "a42a3690-237d-4978-db14-99d9f4b18b88",
        "colab": {
          "base_uri": "https://localhost:8080/"
        }
      },
      "execution_count": null,
      "outputs": [
        {
          "output_type": "stream",
          "name": "stdout",
          "text": [
            "[0.72101766 1.73720251 2.80039783 2.82925535 2.56536946]\n"
          ]
        }
      ]
    },
    {
      "cell_type": "code",
      "source": [
        "# Calculate evaluation metrics\n",
        "mse = mean_squared_error(Y_test, Y_pred)\n",
        "rmse = np.sqrt(mse)  # Root Mean Squared Error\n",
        "mae = mean_absolute_error(Y_test, Y_pred)\n",
        "r2 = r2_score(Y_test, Y_pred)\n",
        "\n",
        "# Print evaluation metrics\n",
        "print(f\"Mean Squared Error (MSE): {mse:.4f}\")#\n",
        "print(f\"Root Mean Squared Error (RMSE): {rmse:.4f}\")\n",
        "print(f\"Mean Absolute Error (MAE): {mae:.4f}\")\n",
        "print(f\"R-Squared Score (R²): {r2:.4f}\")  # Closer to 1 is better\n"
      ],
      "metadata": {
        "id": "8ydvnp9z96y-",
        "outputId": "98f6ada2-70af-4148-b59a-bcbf49862f41",
        "colab": {
          "base_uri": "https://localhost:8080/"
        }
      },
      "execution_count": null,
      "outputs": [
        {
          "output_type": "stream",
          "name": "stdout",
          "text": [
            "Mean Squared Error (MSE): 0.5306\n",
            "Root Mean Squared Error (RMSE): 0.7284\n",
            "Mean Absolute Error (MAE): 0.5309\n",
            "R-Squared Score (R²): 0.6008\n"
          ]
        }
      ]
    },
    {
      "cell_type": "code",
      "source": [
        "# Save the trained model to a file\n",
        "joblib.dump(model, \"california_housing_model.pkl\")\n",
        "print(\"Model saved successfully!\")\n",
        "\n",
        "# Load the model (for future use)\n",
        "loaded_model = joblib.load(\"california_housing_model.pkl\")\n",
        "\n",
        "# Predict using loaded model\n",
        "new_predictions = loaded_model.predict(X_test[:])\n",
        "print(new_predictions)\n"
      ],
      "metadata": {
        "id": "WC3opgq8-r8N",
        "outputId": "f92fb729-907d-4eb7-a727-359ca5f6ee07",
        "colab": {
          "base_uri": "https://localhost:8080/"
        }
      },
      "execution_count": null,
      "outputs": [
        {
          "output_type": "stream",
          "name": "stdout",
          "text": [
            "Model saved successfully!\n",
            "[0.72101766 1.73720251 2.80039783 ... 2.82139331 2.40774588 1.9154149 ]\n"
          ]
        }
      ]
    }
  ],
  "metadata": {
    "colab": {
      "toc_visible": true,
      "provenance": [],
      "include_colab_link": true
    },
    "kernelspec": {
      "display_name": "Python 3",
      "name": "python3"
    }
  },
  "nbformat": 4,
  "nbformat_minor": 0
}