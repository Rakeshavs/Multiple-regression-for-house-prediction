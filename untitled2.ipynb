{
  "nbformat": 4,
  "nbformat_minor": 0,
  "metadata": {
    "colab": {
      "provenance": [],
      "authorship_tag": "ABX9TyNSH6vAAmsyyTORG/iq9QMS",
      "include_colab_link": true
    },
    "kernelspec": {
      "name": "python3",
      "display_name": "Python 3"
    },
    "language_info": {
      "name": "python"
    }
  },
  "cells": [
    {
      "cell_type": "markdown",
      "metadata": {
        "id": "view-in-github",
        "colab_type": "text"
      },
      "source": [
        "<a href=\"https://colab.research.google.com/github/Rakeshavs/Multiple-regression-for-house-prediction/blob/main/untitled2.ipynb\" target=\"_parent\"><img src=\"https://colab.research.google.com/assets/colab-badge.svg\" alt=\"Open In Colab\"/></a>"
      ]
    },
    {
      "cell_type": "code",
      "execution_count": null,
      "metadata": {
        "colab": {
          "base_uri": "https://localhost:8080/",
          "height": 1000
        },
        "id": "Frt4-btTS9Bj",
        "outputId": "493f89c9-9ac1-44d2-bb4c-10786716e9cb"
      },
      "outputs": [
        {
          "output_type": "stream",
          "name": "stdout",
          "text": [
            "      price  area  bedrooms  bathrooms  stories mainroad guestroom basement  \\\n",
            "0  13300000  7420         4          2        3      yes        no       no   \n",
            "1  12250000  8960         4          4        4      yes        no       no   \n",
            "2  12250000  9960         3          2        2      yes        no      yes   \n",
            "3  12215000  7500         4          2        2      yes        no      yes   \n",
            "4  11410000  7420         4          1        2      yes       yes      yes   \n",
            "\n",
            "  hotwaterheating airconditioning  parking prefarea furnishingstatus  \n",
            "0              no             yes        2      yes        furnished  \n",
            "1              no             yes        3       no        furnished  \n",
            "2              no              no        2      yes   semi-furnished  \n",
            "3              no             yes        3      yes        furnished  \n",
            "4              no             yes        2       no        furnished  \n",
            "<class 'pandas.core.frame.DataFrame'>\n",
            "RangeIndex: 545 entries, 0 to 544\n",
            "Data columns (total 13 columns):\n",
            " #   Column            Non-Null Count  Dtype \n",
            "---  ------            --------------  ----- \n",
            " 0   price             545 non-null    int64 \n",
            " 1   area              545 non-null    int64 \n",
            " 2   bedrooms          545 non-null    int64 \n",
            " 3   bathrooms         545 non-null    int64 \n",
            " 4   stories           545 non-null    int64 \n",
            " 5   mainroad          545 non-null    object\n",
            " 6   guestroom         545 non-null    object\n",
            " 7   basement          545 non-null    object\n",
            " 8   hotwaterheating   545 non-null    object\n",
            " 9   airconditioning   545 non-null    object\n",
            " 10  parking           545 non-null    int64 \n",
            " 11  prefarea          545 non-null    object\n",
            " 12  furnishingstatus  545 non-null    object\n",
            "dtypes: int64(6), object(7)\n",
            "memory usage: 55.5+ KB\n",
            "None\n",
            "              price          area    bedrooms   bathrooms     stories  \\\n",
            "count  5.450000e+02    545.000000  545.000000  545.000000  545.000000   \n",
            "mean   4.766729e+06   5150.541284    2.965138    1.286239    1.805505   \n",
            "std    1.870440e+06   2170.141023    0.738064    0.502470    0.867492   \n",
            "min    1.750000e+06   1650.000000    1.000000    1.000000    1.000000   \n",
            "25%    3.430000e+06   3600.000000    2.000000    1.000000    1.000000   \n",
            "50%    4.340000e+06   4600.000000    3.000000    1.000000    2.000000   \n",
            "75%    5.740000e+06   6360.000000    3.000000    2.000000    2.000000   \n",
            "max    1.330000e+07  16200.000000    6.000000    4.000000    4.000000   \n",
            "\n",
            "          parking  \n",
            "count  545.000000  \n",
            "mean     0.693578  \n",
            "std      0.861586  \n",
            "min      0.000000  \n",
            "25%      0.000000  \n",
            "50%      0.000000  \n",
            "75%      1.000000  \n",
            "max      3.000000  \n",
            "Total rows and columns:  (545, 13)\n",
            "Null values:\n",
            "price               0\n",
            "area                0\n",
            "bedrooms            0\n",
            "bathrooms           0\n",
            "stories             0\n",
            "mainroad            0\n",
            "guestroom           0\n",
            "basement            0\n",
            "hotwaterheating     0\n",
            "airconditioning     0\n",
            "parking             0\n",
            "prefarea            0\n",
            "furnishingstatus    0\n",
            "dtype: int64\n"
          ]
        },
        {
          "output_type": "display_data",
          "data": {
            "text/plain": [
              "<Figure size 1000x500 with 6 Axes>"
            ],
            "image/png": "[encoded data removed]"
          },
          "metadata": {}
        },
        {
          "output_type": "stream",
          "name": "stdout",
          "text": [
            "                            OLS Regression Results                            \n",
            "==============================================================================\n",
            "Dep. Variable:                  price   R-squared:                       0.370\n",
            "Model:                            OLS   Adj. R-squared:                  0.368\n",
            "Method:                 Least Squares   F-statistic:                     159.5\n",
            "Date:                Mon, 30 Dec 2024   Prob (F-statistic):           3.38e-55\n",
            "Time:                        02:05:47   Log-Likelihood:                -8517.4\n",
            "No. Observations:                 545   AIC:                         1.704e+04\n",
            "Df Residuals:                     542   BIC:                         1.705e+04\n",
            "Df Model:                           2                                         \n",
            "Covariance Type:            nonrobust                                         \n",
            "==============================================================================\n",
            "                 coef    std err          t      P>|t|      [0.025      0.975]\n",
            "------------------------------------------------------------------------------\n",
            "const       3.911e+05   2.87e+05      1.361      0.174   -1.73e+05    9.56e+05\n",
            "area         423.7785     29.718     14.260      0.000     365.402     482.156\n",
            "bedrooms    7.396e+05   8.74e+04      8.464      0.000    5.68e+05    9.11e+05\n",
            "==============================================================================\n",
            "Omnibus:                       78.036   Durbin-Watson:                   0.720\n",
            "Prob(Omnibus):                  0.000   Jarque-Bera (JB):              147.375\n",
            "Skew:                           0.836   Prob(JB):                     9.95e-33\n",
            "Kurtosis:                       4.922   Cond. No.                     2.60e+04\n",
            "==============================================================================\n",
            "\n",
            "Notes:\n",
            "[1] Standard Errors assume that the covariance matrix of the errors is correctly specified.\n",
            "[2] The condition number is large, 2.6e+04. This might indicate that there are\n",
            "strong multicollinearity or other numerical problems.\n"
          ]
        }
      ],
      "source": [
        "import pandas as pd\n",
        "import numpy as np\n",
        "import matplotlib.pyplot as plt\n",
        "import seaborn as sns\n",
        "import statsmodels.api as sm\n",
        "# Load the dataset (you can replace this with your data\n",
        "\n",
        "data = pd.read_excel('/content/Copy of Housing(1).xlsx')\n",
        "\n",
        "# Data inspection\n",
        "print(data.head(5)) # Display first 5 records\n",
        "print(data.info()) # Show datatype definitions for\n",
        "\n",
        "print(data.describe()) # Descriptive statistics\n",
        "print(f\"Total rows and columns:  {data.shape}\")\n",
        "# Check for null values\n",
        "print(f\"Null values:\\n{data.isnull().sum()}\")\n",
        "# Detect outliers using box plots\n",
        "def detect_outliers(data):\n",
        "    fig, axs = plt.subplots(2, 3, figsize=(10, 5))\n",
        "    sns.boxplot(x=data['price'], ax=axs[0, 0])\n",
        "    sns.boxplot(x=data['area'], ax=axs[0, 1])\n",
        "# Repeat for other features...\n",
        "    plt.show()\n",
        "# Call the function with the 'data' argument\n",
        "detect_outliers(data)\n",
        "# Multiple Linear Regression\n",
        "X = data[['area', 'bedrooms']]\n",
        "y = data['price']\n",
        "\n",
        "# Add a constant term for intercept\n",
        "X = sm.add_constant(X)\n",
        "# Fit the model\n",
        "model = sm.OLS(y, X).fit()\n",
        "# Get model summary\n",
        "model_summary = model.summary()\n",
        "print(model_summary)"
      ]
    },
    {
      "cell_type": "markdown",
      "source": [
        "# New Section"
      ],
      "metadata": {
        "id": "aZsPdmeATR6H"
      }
    }
  ]
}